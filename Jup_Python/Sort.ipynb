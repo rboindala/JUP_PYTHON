{
 "cells": [
  {
   "cell_type": "code",
   "execution_count": 22,
   "metadata": {},
   "outputs": [
    {
     "name": "stdout",
     "output_type": "stream",
     "text": [
      "enter the size5\n",
      "enter the elements\n",
      "1\n",
      "23\n",
      "32\n",
      "23\n",
      "223\n",
      "before the sort\n",
      "1\n",
      "23\n",
      "32\n",
      "23\n",
      "223\n"
     ]
    }
   ],
   "source": [
    "b=[]\n",
    "a=int(input(\"enter the size\"))\n",
    "print(\"enter the elements\")\n",
    "for i in range(a):\n",
    "    c=int(input())\n",
    "    b.append(c)    \n",
    "print(\"before the sort\")\n",
    "for i in range(a):\n",
    "    print(b[i])\n",
    "d=0"
   ]
  },
  {
   "cell_type": "code",
   "execution_count": 23,
   "metadata": {},
   "outputs": [],
   "source": [
    "for i in range(a):\n",
    "    \n",
    "    i=d\n",
    "    for j in range(i+1,a):\n",
    "        if b[d]>b[j]:\n",
    "            t=b[i]\n",
    "            b[i]=b[i]\n",
    "            b[j]=t\n",
    "            "
   ]
  },
  {
   "cell_type": "code",
   "execution_count": 24,
   "metadata": {},
   "outputs": [
    {
     "name": "stdout",
     "output_type": "stream",
     "text": [
      "1\n",
      "23\n",
      "32\n",
      "23\n",
      "223\n"
     ]
    }
   ],
   "source": [
    "i=0\n",
    "for i in range(len(b)):\n",
    "    print(b[i])"
   ]
  },
  {
   "cell_type": "code",
   "execution_count": null,
   "metadata": {},
   "outputs": [],
   "source": []
  }
 ],
 "metadata": {
  "kernelspec": {
   "display_name": "Python 3",
   "language": "python",
   "name": "python3"
  },
  "language_info": {
   "codemirror_mode": {
    "name": "ipython",
    "version": 3
   },
   "file_extension": ".py",
   "mimetype": "text/x-python",
   "name": "python",
   "nbconvert_exporter": "python",
   "pygments_lexer": "ipython3",
   "version": "3.7.4"
  }
 },
 "nbformat": 4,
 "nbformat_minor": 2
}
