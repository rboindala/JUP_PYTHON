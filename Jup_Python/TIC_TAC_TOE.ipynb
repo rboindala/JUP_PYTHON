{
 "cells": [
  {
   "cell_type": "code",
   "execution_count": 7,
   "metadata": {},
   "outputs": [],
   "source": [
    "from IPython.display import clear_output\n",
    "def display_board(b):\n",
    "    clear_output()\n",
    "    print(b[0]+\"|\"+b[1]+\"|\"+b[2])\n",
    "    print(\"-----\")\n",
    "    print(b[3]+\"|\"+b[4]+\"|\"+b[5])\n",
    "    print(\"-----\")\n",
    "    print(b[6]+\"|\"+b[7]+\"|\"+b[8])\n",
    "    "
   ]
  },
  {
   "cell_type": "code",
   "execution_count": 8,
   "metadata": {},
   "outputs": [],
   "source": [
    "tb=[\"X\",\"O\",\"X\",\"O\",\"X\",\"O\",\"X\",\"O\",\"X\"]"
   ]
  },
  {
   "cell_type": "code",
   "execution_count": 9,
   "metadata": {},
   "outputs": [
    {
     "name": "stdout",
     "output_type": "stream",
     "text": [
      "X|O|X\n",
      "-----\n",
      "O|X|O\n",
      "-----\n",
      "X|O|X\n"
     ]
    }
   ],
   "source": [
    "display_board(tb)"
   ]
  },
  {
   "cell_type": "code",
   "execution_count": 10,
   "metadata": {},
   "outputs": [],
   "source": [
    "def user_input():\n",
    "    inp=''\n",
    "    while not (inp==\"X\" or inp==\"O\"):\n",
    "        \n",
    "        inp=input(\"player 1 choose your marker\").upper()\n",
    "    if inp==\"X\":\n",
    "        return('X','O')\n",
    "    else:\n",
    "        return('O','X')\n",
    "        \n",
    "        "
   ]
  },
  {
   "cell_type": "code",
   "execution_count": 11,
   "metadata": {},
   "outputs": [
    {
     "name": "stdout",
     "output_type": "stream",
     "text": [
      "player 1 choose your markerx\n"
     ]
    },
    {
     "data": {
      "text/plain": [
       "('X', 'O')"
      ]
     },
     "execution_count": 11,
     "metadata": {},
     "output_type": "execute_result"
    }
   ],
   "source": [
    "user_input()"
   ]
  },
  {
   "cell_type": "code",
   "execution_count": 12,
   "metadata": {},
   "outputs": [],
   "source": [
    "def place_marker(board,marker,pos):\n",
    "    board[pos-1]=marker\n"
   ]
  },
  {
   "cell_type": "code",
   "execution_count": 13,
   "metadata": {},
   "outputs": [
    {
     "name": "stdout",
     "output_type": "stream",
     "text": [
      "X|O|X\n",
      "-----\n",
      "&|X|O\n",
      "-----\n",
      "X|O|X\n"
     ]
    }
   ],
   "source": [
    "place_marker(tb,'&',4)\n",
    "display_board(tb)"
   ]
  },
  {
   "cell_type": "code",
   "execution_count": 14,
   "metadata": {},
   "outputs": [],
   "source": [
    "def win_check(board,mark):\n",
    "    \n",
    "    return ((board[6] == mark and board[7] == mark and board[8] == mark) or # across the top\n",
    "    (board[3] == mark and board[4] == mark and board[5] == mark) or # across the middle\n",
    "    (board[0] == mark and board[1] == mark and board[2] == mark) or # across the bottom\n",
    "    (board[6] == mark and board[3] == mark and board[0] == mark) or # down the middle\n",
    "    (board[7] == mark and board[4] == mark and board[1] == mark) or # down the middle\n",
    "    (board[8] == mark and board[5] == mark and board[2] == mark) or # down the right side\n",
    "    (board[6] == mark and board[4] == mark and board[2] == mark) or # diagonal\n",
    "    (board[8] == mark and board[4] == mark and board[0] == mark)) # diagonal\n",
    "             "
   ]
  },
  {
   "cell_type": "code",
   "execution_count": 15,
   "metadata": {},
   "outputs": [
    {
     "name": "stdout",
     "output_type": "stream",
     "text": [
      "X|O|X\n",
      "-----\n",
      "&|X|&\n",
      "-----\n",
      "X|O|X\n"
     ]
    }
   ],
   "source": [
    "place_marker(tb,'&',6)\n",
    "display_board(tb)"
   ]
  },
  {
   "cell_type": "code",
   "execution_count": 16,
   "metadata": {},
   "outputs": [
    {
     "data": {
      "text/plain": [
       "False"
      ]
     },
     "execution_count": 16,
     "metadata": {},
     "output_type": "execute_result"
    }
   ],
   "source": [
    "win_check(tb,'&')"
   ]
  },
  {
   "cell_type": "code",
   "execution_count": 34,
   "metadata": {},
   "outputs": [],
   "source": [
    "import random\n",
    "\n",
    "def choose_first():\n",
    "\n",
    "    t=random.randint(0, 1)\n",
    "    if t==0:\n",
    "        return(\"player 1\")\n",
    "    else:\n",
    "        return(\"player 2\")"
   ]
  },
  {
   "cell_type": "code",
   "execution_count": 36,
   "metadata": {},
   "outputs": [
    {
     "name": "stdout",
     "output_type": "stream",
     "text": [
      "player 1\n"
     ]
    }
   ],
   "source": [
    "y=choose_first()\n",
    "print(y)\n"
   ]
  },
  {
   "cell_type": "code",
   "execution_count": 18,
   "metadata": {},
   "outputs": [],
   "source": [
    "def check_space(board,pos):\n",
    "    return board[pos]==''"
   ]
  },
  {
   "cell_type": "code",
   "execution_count": 19,
   "metadata": {},
   "outputs": [],
   "source": [
    "def full_board_check(board):\n",
    "    for i in range(1,10):\n",
    "        if check_space(board,i):\n",
    "            return False\n",
    "    return True"
   ]
  },
  {
   "cell_type": "code",
   "execution_count": 20,
   "metadata": {},
   "outputs": [],
   "source": [
    "def player_choice(board):\n",
    "    pos=0\n",
    "    while pos not in [1,2,3,4,5,6,7,8,9] or not check_space(board,pos):\n",
    "        pos=int(input(\"enter the next position \"))\n",
    "    return pos"
   ]
  },
  {
   "cell_type": "code",
   "execution_count": null,
   "metadata": {},
   "outputs": [],
   "source": [
    "display_board(tb)\n",
    "player_choice(tb)\n",
    "print(pos)"
   ]
  },
  {
   "cell_type": "code",
   "execution_count": 21,
   "metadata": {},
   "outputs": [],
   "source": [
    "def replay():\n",
    "    return input(\"Do you want to play again? yes or no?\").lower().startswith('y')"
   ]
  },
  {
   "cell_type": "code",
   "execution_count": null,
   "metadata": {},
   "outputs": [
    {
     "name": "stdout",
     "output_type": "stream",
     "text": [
      " | | \n",
      "-----\n",
      " | | \n",
      "-----\n",
      " | | \n",
      "enter the next position 1\n",
      "enter the next position 2\n",
      "enter the next position 3\n",
      "enter the next position 4\n",
      "enter the next position 5\n",
      "enter the next position 6\n",
      "enter the next position 7\n",
      "enter the next position 8\n",
      "enter the next position 9\n",
      "enter the next position 3\n",
      "enter the next position 2\n",
      "enter the next position 2\n",
      "enter the next position 2\n",
      "enter the next position 2\n",
      "enter the next position 2\n",
      "enter the next position 2\n",
      "enter the next position 22\n",
      "enter the next position 2\n"
     ]
    }
   ],
   "source": [
    "print(\"TIC_TAC_TOE\")\n",
    "\n",
    "while True:\n",
    "        theBoard = [' '] * 10\n",
    "        ply1input,ply2input=user_input()\n",
    "        turn=choose_first()\n",
    "        print(turn + ' will go first.')\n",
    "        play_game=input(\"Do you want to play ? yes or no?\").lower().startswith('y')\n",
    "        if play_game:\n",
    "            game_on=True\n",
    "        else:\n",
    "            game_on=False\n",
    "        while game_on:\n",
    "            if turn==\"player 1\":\n",
    "                display_board(theBoard)\n",
    "                pos=player_choice(theBoard)\n",
    "                place_marker(theBoard,ply1input,pos)\n",
    "            \n",
    "                if win_check(theBoard,ply1input):\n",
    "                    display_board(theboard)\n",
    "                    print(\"Player 1 has won!\")\n",
    "                    game_on=False\n",
    "                else:\n",
    "                    turn=\"player 2\"\n",
    "            else:\n",
    "                display_board(theBoard)\n",
    "                pos=player_choice(theBoard)\n",
    "                place_marker(theBoard,ply2input,pos)\n",
    "                \n",
    "                if win_check(theBoard,ply2input):\n",
    "                    display_board(theBoard)\n",
    "                    print(\"Player 2 has won!\")\n",
    "                    game_on=False\n",
    "                else:\n",
    "                    if full_board_check(theBoard):\n",
    "                        display_board(theBoard)\n",
    "                        print(\"The Game is a draw\")\n",
    "                        break\n",
    "                    else:\n",
    "                        turn='player 1'\n",
    "                        \n",
    "\n",
    "        if not replay():\n",
    "            break\n",
    "                    \n",
    "        "
   ]
  },
  {
   "cell_type": "code",
   "execution_count": null,
   "metadata": {},
   "outputs": [],
   "source": []
  }
 ],
 "metadata": {
  "kernelspec": {
   "display_name": "Python 3",
   "language": "python",
   "name": "python3"
  },
  "language_info": {
   "codemirror_mode": {
    "name": "ipython",
    "version": 3
   },
   "file_extension": ".py",
   "mimetype": "text/x-python",
   "name": "python",
   "nbconvert_exporter": "python",
   "pygments_lexer": "ipython3",
   "version": "3.7.4"
  }
 },
 "nbformat": 4,
 "nbformat_minor": 2
}
